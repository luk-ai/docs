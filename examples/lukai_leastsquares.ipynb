{
  "nbformat": 4,
  "nbformat_minor": 0,
  "metadata": {
    "colab": {
      "name": "lukai-leastsquares.ipynb",
      "version": "0.3.2",
      "views": {},
      "default_view": {},
      "provenance": [],
      "collapsed_sections": []
    },
    "kernelspec": {
      "name": "python3",
      "display_name": "Python 3"
    }
  },
  "cells": [
    {
      "metadata": {
        "id": "4da8Lgvb8Sg5",
        "colab_type": "text"
      },
      "cell_type": "markdown",
      "source": [
        "# Lukai - Least Squares Example Workbook\n",
        "\n",
        "First we need to install the Luk.ai management library and import the dependencies."
      ]
    },
    {
      "metadata": {
        "id": "oyXKg7bJ8OZw",
        "colab_type": "code",
        "colab": {
          "autoexec": {
            "startup": false,
            "wait_interval": 0
          },
          "base_uri": "https://localhost:8080/",
          "height": 0
        },
        "outputId": "47d20329-8284-4280-ad86-2527863497fd",
        "executionInfo": {
          "status": "ok",
          "timestamp": 1531343081887,
          "user_tz": 240,
          "elapsed": 2895,
          "user": {
            "displayName": "Tristan Rice",
            "photoUrl": "//lh6.googleusercontent.com/-P-6_rOryewY/AAAAAAAAAAI/AAAAAAAAbsU/DEGIyDeQNbY/s50-c-k-no/photo.jpg",
            "userId": "117896859450296375324"
          }
        }
      },
      "cell_type": "code",
      "source": [
        "!pip install --upgrade -q lukai"
      ],
      "execution_count": 28,
      "outputs": []
    },
    {
      "metadata": {
        "id": "kGFRTGh16TYT",
        "colab_type": "code",
        "colab": {
          "autoexec": {
            "startup": false,
            "wait_interval": 0
          },
          "base_uri": "https://localhost:8080/",
          "height": 0
        },
        "outputId": "9e533d7c-bde4-4b17-f820-427920612055",
        "executionInfo": {
          "status": "ok",
          "timestamp": 1531343082858,
          "user_tz": 240,
          "elapsed": 418,
          "user": {
            "displayName": "Tristan Rice",
            "photoUrl": "//lh6.googleusercontent.com/-P-6_rOryewY/AAAAAAAAAAI/AAAAAAAAbsU/DEGIyDeQNbY/s50-c-k-no/photo.jpg",
            "userId": "117896859450296375324"
          }
        }
      },
      "cell_type": "code",
      "source": [
        "import tensorflow as tf\n",
        "import numpy as np\n",
        "import lukai"
      ],
      "execution_count": 29,
      "outputs": []
    },
    {
      "metadata": {
        "id": "js2voKULHnDU",
        "colab_type": "text"
      },
      "cell_type": "markdown",
      "source": [
        "Time to actually create the model! This is a simple least squared model that tries to find the best solution to `y = w * x + b`."
      ]
    },
    {
      "metadata": {
        "id": "oO5TrZoU6ryo",
        "colab_type": "code",
        "colab": {
          "autoexec": {
            "startup": false,
            "wait_interval": 0
          },
          "base_uri": "https://localhost:8080/",
          "height": 0
        },
        "outputId": "be46cc8d-a794-4f56-c545-a5a618f1ad31",
        "executionInfo": {
          "status": "ok",
          "timestamp": 1531343083967,
          "user_tz": 240,
          "elapsed": 412,
          "user": {
            "displayName": "Tristan Rice",
            "photoUrl": "//lh6.googleusercontent.com/-P-6_rOryewY/AAAAAAAAAAI/AAAAAAAAbsU/DEGIyDeQNbY/s50-c-k-no/photo.jpg",
            "userId": "117896859450296375324"
          }
        }
      },
      "cell_type": "code",
      "source": [
        "x = tf.placeholder(tf.float32, [None, 1], name=\"x\")\n",
        "y_ = tf.placeholder(tf.float32, [None, 1], name=\"y_\")\n",
        "\n",
        "b = tf.Variable(tf.zeros([1]), name=\"b\")\n",
        "w = tf.Variable(tf.zeros([1, 1]), name=\"w\")\n",
        "\n",
        "y = tf.identity(w * x + b, name=\"y\")\n",
        "\n",
        "loss = tf.reduce_sum((y - y_) * (y - y_))\n",
        "learning_rate = 0.005\n",
        "train_step = tf.train.GradientDescentOptimizer(learning_rate).minimize(loss, name=\"train\")\n",
        "\n",
        "sess = tf.Session()\n",
        "sess.run(tf.initialize_all_variables())"
      ],
      "execution_count": 30,
      "outputs": []
    },
    {
      "metadata": {
        "id": "vlSkN9dLH5gU",
        "colab_type": "text"
      },
      "cell_type": "markdown",
      "source": [
        "If you were training this model in Python you'd run something like this, but since we're training it through Luk.ai there's no need.\n",
        "\n",
        "```python\n",
        "for step in range(10):\n",
        "    sess.run(train_step, feed_dict={x:[[2.3],[1.7],[-3.8],[0.5],[-4.1],[-1.5],[-2.5],[6.2]],\n",
        "                                    y_:[[-4.4],[-3.6],[7.7],[-0.9],[8.3],[2.9],[4.9],[-12.2]]})\n",
        "    print step, sess.run(w), sess.run(b)\n",
        "```"
      ]
    },
    {
      "metadata": {
        "id": "ePfAPEPKIFIh",
        "colab_type": "text"
      },
      "cell_type": "markdown",
      "source": [
        "Next we print all the tensorflow targets and placeholder names. We'll need these in the client libraries in order to actually feed the model data and run the training targets."
      ]
    },
    {
      "metadata": {
        "id": "I8yUrPEkHerf",
        "colab_type": "code",
        "colab": {
          "autoexec": {
            "startup": false,
            "wait_interval": 0
          },
          "base_uri": "https://localhost:8080/",
          "height": 35
        },
        "outputId": "0a38a59b-55bc-409b-fd4d-1424b0a36012",
        "executionInfo": {
          "status": "ok",
          "timestamp": 1531343086433,
          "user_tz": 240,
          "elapsed": 589,
          "user": {
            "displayName": "Tristan Rice",
            "photoUrl": "//lh6.googleusercontent.com/-P-6_rOryewY/AAAAAAAAAAI/AAAAAAAAbsU/DEGIyDeQNbY/s50-c-k-no/photo.jpg",
            "userId": "117896859450296375324"
          }
        }
      },
      "cell_type": "code",
      "source": [
        "print('Node names: x = {}, y_ = {}, train_step = {}, w = {}, b = {}, y = {}'.format(\n",
        "  x.name, y_.name, train_step.name, w.name, b.name, y.name,\n",
        "))"
      ],
      "execution_count": 32,
      "outputs": [
        {
          "output_type": "stream",
          "text": [
            "Node names: x = x_2:0, y_ = y__2:0, train_step = train_2, w = w_2:0, b = b_2:0, y = y_2:0\n"
          ],
          "name": "stdout"
        }
      ]
    },
    {
      "metadata": {
        "id": "-sIjcF2kI0r9",
        "colab_type": "text"
      },
      "cell_type": "markdown",
      "source": [
        "The last step it to upload the model to Luk.ai. You'll need to insert your API token and domain name. If you created a `model_type` other than \"leastsquares\" you'll need to change that as well."
      ]
    },
    {
      "metadata": {
        "id": "QeK2eqb9I1BX",
        "colab_type": "code",
        "colab": {
          "autoexec": {
            "startup": false,
            "wait_interval": 0
          }
        }
      },
      "cell_type": "code",
      "source": [
        "lukai.set_api_token('<your api token>') # change this to your API token\n",
        "lukai.upload(\n",
        "    session=sess,\n",
        "    domain='<your domain>', # change this to your domain\n",
        "    model_type='leastsquares', # might have to change this\n",
        "    name='Hello Model!',\n",
        "    description='This is a basic least squares model used for beginners.',\n",
        "    hyper_params=lukai.HyperParams(\n",
        "        num_clients = 10,\n",
        "        batch_size = 10,\n",
        "        num_rounds = 100,\n",
        "        learning_rate = learning_rate,\n",
        "        num_local_rounds = 10,\n",
        "    ),\n",
        "    metrics={\n",
        "      loss: lukai.REDUCE_MEAN,\n",
        "    },\n",
        ")"
      ],
      "execution_count": 0,
      "outputs": []
    }
  ]
}